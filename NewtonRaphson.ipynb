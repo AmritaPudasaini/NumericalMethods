{
 "cells": [
  {
   "cell_type": "markdown",
   "id": "eb4f849d",
   "metadata": {},
   "source": [
    "## Newton-Raphson's Method\n",
    "$$\n",
    "f(x) = e^{-0.5x}(4 - x) - 2\n",
    "$$\n"
   ]
  },
  {
   "cell_type": "code",
   "execution_count": 1,
   "id": "f76b7c11",
   "metadata": {},
   "outputs": [
    {
     "name": "stdout",
     "output_type": "stream",
     "text": [
      "Iter x_n            f(x_n)         f'(x_n)        Error (%)      \n",
      "1    1.5000000000   -0.8190836181  -1.0628247437  \n",
      "2    0.7293333186   0.2712428279   -1.8300495074  16.8897738619\n",
      "3    0.8775494334   0.0134374084   -1.6515447360  0.9186404006\n",
      "4    0.8856857001   0.0000379383   -1.6422270913  0.0026082798\n",
      "5    0.8857088018   0.0000000003   -1.6422007043  0.0000000210\n",
      "6    0.8857088020   0.0000000000   -1.6422007041  0.0000000000\n",
      "7    0.8857088020   0.0000000000   -1.6422007041  0.0000000000\n",
      "8    0.8857088020   0.0000000000   -1.6422007041  0.0000000000\n",
      "9    0.8857088020   0.0000000000   -1.6422007041  0.0000000000\n",
      "10   0.8857088020   0.0000000000   -1.6422007041  0.0000000000\n",
      "11   0.8857088020   0.0000000000   -1.6422007041  0.0000000000\n",
      "12   0.8857088020   0.0000000000   -1.6422007041  0.0000000000\n"
     ]
    }
   ],
   "source": [
    "import math\n",
    "\n",
    "def f(x):\n",
    "    return math.exp(-0.5 * x) * (4 - x) - 2\n",
    "def df(x):\n",
    "    return math.exp(-0.5 * x) * (-0.5 * (4 - x) - 1)\n",
    "# Initial guess\n",
    "x0 = 1.5\n",
    "iterations = 12\n",
    "print(f\"{'Iter':<5}{'x_n':<15}{'f(x_n)':<15}{'f\\'(x_n)':<15}{'Error (%)':<15}\")\n",
    "for i in range(1, iterations + 1):\n",
    "    fx = f(x0)\n",
    "    dfx = df(x0)\n",
    "    # Newton-Raphson formula\n",
    "    x1 = x0 - fx / dfx\n",
    "    \n",
    "    error = abs((x1 - x0) / x1) * 100 if i != 1 else None\n",
    "    \n",
    "    print(f\"{i:<5}{x0:<15.10f}{fx:<15.10f}{dfx:<15.10f}{'' if error is None else f'{error:.10f}'}\")\n",
    "    x0 = x1\n"
   ]
  }
 ],
 "metadata": {
  "kernelspec": {
   "display_name": "base",
   "language": "python",
   "name": "python3"
  },
  "language_info": {
   "codemirror_mode": {
    "name": "ipython",
    "version": 3
   },
   "file_extension": ".py",
   "mimetype": "text/x-python",
   "name": "python",
   "nbconvert_exporter": "python",
   "pygments_lexer": "ipython3",
   "version": "3.13.5"
  }
 },
 "nbformat": 4,
 "nbformat_minor": 5
}
