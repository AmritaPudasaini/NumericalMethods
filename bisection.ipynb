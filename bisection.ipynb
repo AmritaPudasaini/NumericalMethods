{
 "cells": [
  {
   "cell_type": "code",
   "execution_count": 1,
   "id": "035451b5",
   "metadata": {},
   "outputs": [
    {
     "name": "stdout",
     "output_type": "stream",
     "text": [
      "iter         (xm)        f(xm)      error %\n",
      "   0       1.0000    -0.158529   100.000000\n",
      "   1       0.5000     0.479426   100.000000\n",
      "   2       0.7500     0.181639    33.333333\n",
      "   3       0.8750     0.017544    14.285714\n",
      "   4       0.9375    -0.068919     6.666667\n",
      "   5       0.9062    -0.025303     3.448276\n",
      "   6       0.8906    -0.003785     1.754386\n",
      "   7       0.8828     0.006903     0.884956\n",
      "   8       0.8867     0.001565     0.440529\n",
      "   9       0.8887    -0.001109     0.219780\n",
      "  10       0.8877     0.000228     0.110011\n",
      "  11       0.8882    -0.000440     0.054975\n",
      "  12       0.8879    -0.000106     0.027495\n",
      "root is 0.887939453125 after 13 iterations\n"
     ]
    }
   ],
   "source": [
    "# bisection method\n",
    "import numpy as np\n",
    "def f(x):\n",
    "    return np.sin(x) - 2*x + 1\n",
    "def bisection (xl, xu, es, max_itr):\n",
    "    if f(xl) * f(xu) >= 0:\n",
    "        print(\"No sign change, change initial guess value.\")\n",
    "        return None\n",
    "    itr_count = 0\n",
    "    xm_old = xl\n",
    "    ea= 100\n",
    "    print(f\"{'iter':>4} {'(xm)':>12} {'f(xm)':>12} {'error %':>12}\")\n",
    "    while ea > es and itr_count < max_itr:\n",
    "        xm = (xl + xu) / 2\n",
    "        if itr_count > 0:\n",
    "            ea = abs((xm - xm_old) / xm) * 100\n",
    "        xm_old = xm\n",
    "        f_xm = f(xm)\n",
    "        f_xl = f(xl)\n",
    "        print(f\"{itr_count:>4} {xm:>12.4f} {f_xm:>12.6f} {ea:>12.6f}\")\n",
    "        if f_xl * f_xm < 0:\n",
    "            xu = xm\n",
    "        elif f_xl * f_xm > 0:\n",
    "            xl = xm\n",
    "        else:\n",
    "            ea = 0\n",
    "        itr_count += 1\n",
    "    return xm, itr_count\n",
    "root, count = bisection (xl = 0, xu = 2, es = 0.05, max_itr = 500)\n",
    "print(\"root is\", root, \"after\", count, \"iterations\")\n",
    "    "
   ]
  }
 ],
 "metadata": {
  "kernelspec": {
   "display_name": "base",
   "language": "python",
   "name": "python3"
  },
  "language_info": {
   "codemirror_mode": {
    "name": "ipython",
    "version": 3
   },
   "file_extension": ".py",
   "mimetype": "text/x-python",
   "name": "python",
   "nbconvert_exporter": "python",
   "pygments_lexer": "ipython3",
   "version": "3.13.5"
  }
 },
 "nbformat": 4,
 "nbformat_minor": 5
}
