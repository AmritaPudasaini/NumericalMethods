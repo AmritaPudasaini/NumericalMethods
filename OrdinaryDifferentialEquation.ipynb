{
 "cells": [
  {
   "cell_type": "markdown",
   "id": "ab828291",
   "metadata": {},
   "source": [
    "## Amrita Pudasaini\n",
    "### Analytical Method"
   ]
  },
  {
   "cell_type": "code",
   "execution_count": 1,
   "id": "fb8276cb",
   "metadata": {},
   "outputs": [
    {
     "name": "stdout",
     "output_type": "stream",
     "text": [
      "Analytical Solution:\n",
      "t=0.00, y=1.000000\n",
      "t=0.25, y=0.687961\n",
      "t=0.50, y=0.479805\n",
      "t=0.75, y=0.351376\n",
      "t=1.00, y=0.286505\n",
      "t=1.25, y=0.282339\n",
      "t=1.50, y=0.373673\n",
      "t=1.75, y=0.755577\n",
      "t=2.00, y=2.718282\n"
     ]
    }
   ],
   "source": [
    "# part_a_analytical.py\n",
    "import numpy as np\n",
    "\n",
    "# Exact solution function\n",
    "def exact_solution(t):\n",
    "    return np.exp(t**4 / 4.0 - 1.5 * t)\n",
    "\n",
    "# Parameters\n",
    "t0, t_end = 0.0, 2.0\n",
    "t_vals = np.linspace(t0, t_end, 9)  # 9 points from 0 to 2\n",
    "y_vals = exact_solution(t_vals)\n",
    "\n",
    "# Output table\n",
    "print(\"Analytical Solution:\")\n",
    "for t, y in zip(t_vals, y_vals):\n",
    "    print(f\"t={t:.2f}, y={y:.6f}\")\n"
   ]
  },
  {
   "cell_type": "markdown",
   "id": "3887e4e8",
   "metadata": {},
   "source": [
    "### Euler's Method"
   ]
  },
  {
   "cell_type": "code",
   "execution_count": 10,
   "id": "2ede4dd5",
   "metadata": {},
   "outputs": [
    {
     "name": "stdout",
     "output_type": "stream",
     "text": [
      "Euler's Method (h=0.5):\n",
      "t=0.00, y=1.000000\n",
      "t=0.50, y=0.250000\n",
      "t=1.00, y=0.078125\n",
      "t=1.50, y=0.058594\n",
      "t=2.00, y=0.113525\n"
     ]
    }
   ],
   "source": [
    "# part_a_euler.py\n",
    "import numpy as np\n",
    "\n",
    "# ODE definition\n",
    "def f(t, y):\n",
    "    return y * (t**3 - 1.5)\n",
    "\n",
    "# Euler method\n",
    "def euler_method(f, t0, y0, h, t_end):\n",
    "    ts = np.arange(t0, t_end + 1e-12, h)\n",
    "    ys = np.zeros_like(ts)\n",
    "    ys[0] = y0\n",
    "    for i in range(len(ts)-1):\n",
    "        ys[i+1] = ys[i] + h * f(ts[i], ys[i])\n",
    "    return ts, ys\n",
    "\n",
    "# Parameters\n",
    "t0, y0, t_end = 0.0, 1.0, 2.0\n",
    "h = 0.5  # change to 0.25 if needed\n",
    "\n",
    "# Run Euler method\n",
    "t_vals, y_vals = euler_method(f, t0, y0, h, t_end)\n",
    "\n",
    "# Output table\n",
    "print(f\"Euler's Method (h={h}):\")\n",
    "for t, y in zip(t_vals, y_vals):\n",
    "    print(f\"t={t:.2f}, y={y:.6f}\")\n"
   ]
  },
  {
   "cell_type": "markdown",
   "id": "252be9e4",
   "metadata": {},
   "source": [
    "### RK4 Method"
   ]
  },
  {
   "cell_type": "code",
   "execution_count": 5,
   "id": "d914b400",
   "metadata": {},
   "outputs": [
    {
     "name": "stdout",
     "output_type": "stream",
     "text": [
      "RK4 Method (h=0.5):\n",
      "t=0.00, y=1.000000\n",
      "t=0.50, y=0.481096\n",
      "t=1.00, y=0.286932\n",
      "t=1.50, y=0.373752\n",
      "t=2.00, y=2.513072\n"
     ]
    }
   ],
   "source": [
    "# part_a_rk4.py\n",
    "import numpy as np\n",
    "\n",
    "# ODE definition\n",
    "def f(t, y):\n",
    "    return y * (t**3 - 1.5)\n",
    "\n",
    "# RK4 method\n",
    "def rk4_method(f, t0, y0, h, t_end):\n",
    "    ts = np.arange(t0, t_end + 1e-12, h)\n",
    "    ys = np.zeros_like(ts)\n",
    "    ys[0] = y0\n",
    "    for i in range(len(ts)-1):\n",
    "        t = ts[i]\n",
    "        y = ys[i]\n",
    "        k1 = f(t, y)\n",
    "        k2 = f(t + h/2.0, y + h/2.0 * k1)\n",
    "        k3 = f(t + h/2.0, y + h/2.0 * k2)\n",
    "        k4 = f(t + h, y + h * k3)\n",
    "        ys[i+1] = y + (h/6.0)*(k1 + 2*k2 + 2*k3 + k4)\n",
    "    return ts, ys\n",
    "\n",
    "# Parameters\n",
    "t0, y0, t_end = 0.0, 1.0, 2.0\n",
    "h = 0.5  # step size\n",
    "\n",
    "# Run RK4 method\n",
    "t_vals, y_vals = rk4_method(f, t0, y0, h, t_end)\n",
    "\n",
    "# Output table\n",
    "print(f\"RK4 Method (h={h}):\")\n",
    "for t, y in zip(t_vals, y_vals):\n",
    "    print(f\"t={t:.2f}, y={y:.6f}\")\n"
   ]
  },
  {
   "cell_type": "markdown",
   "id": "f325bdf1",
   "metadata": {},
   "source": [
    "## Amrita Pudasaini\n",
    "### Analytical Method"
   ]
  },
  {
   "cell_type": "code",
   "execution_count": 6,
   "id": "7e479f14",
   "metadata": {},
   "outputs": [
    {
     "name": "stdout",
     "output_type": "stream",
     "text": [
      "Analytical Solution:\n",
      "x=0.00, y=1.000000\n",
      "x=0.25, y=1.041667\n",
      "x=0.50, y=1.208333\n",
      "x=0.75, y=1.562500\n",
      "x=1.00, y=2.166667\n"
     ]
    }
   ],
   "source": [
    "# part_b_analytical.py\n",
    "import numpy as np\n",
    "\n",
    "# Exact solution function\n",
    "def exact_solution(x):\n",
    "    return 1.0 + 0.5 * x**2 + (2.0/3.0) * x**3\n",
    "\n",
    "# Parameters\n",
    "x0, x_end, h = 0.0, 1.0, 0.25\n",
    "x_vals = np.arange(x0, x_end + 1e-12, h)\n",
    "y_vals = exact_solution(x_vals)\n",
    "\n",
    "# Output table\n",
    "print(\"Analytical Solution:\")\n",
    "for x, y in zip(x_vals, y_vals):\n",
    "    print(f\"x={x:.2f}, y={y:.6f}\")\n"
   ]
  },
  {
   "cell_type": "markdown",
   "id": "bd8b3dce",
   "metadata": {},
   "source": [
    "### Euler's Method"
   ]
  },
  {
   "cell_type": "code",
   "execution_count": 7,
   "id": "28d98286",
   "metadata": {},
   "outputs": [
    {
     "name": "stdout",
     "output_type": "stream",
     "text": [
      "Euler's Method (h=0.25):\n",
      "x=0.00, y=1.000000\n",
      "x=0.25, y=1.000000\n",
      "x=0.50, y=1.093750\n",
      "x=0.75, y=1.343750\n",
      "x=1.00, y=1.812500\n"
     ]
    }
   ],
   "source": [
    "# part_b_euler.py\n",
    "import numpy as np\n",
    "\n",
    "# ODE definition\n",
    "def f(x, y):\n",
    "    return x * (1 + 2*x)\n",
    "\n",
    "# Euler method\n",
    "def euler_method(f, x0, y0, h, x_end):\n",
    "    xs = np.arange(x0, x_end + 1e-12, h)\n",
    "    ys = np.zeros_like(xs)\n",
    "    ys[0] = y0\n",
    "    for i in range(len(xs)-1):\n",
    "        ys[i+1] = ys[i] + h * f(xs[i], ys[i])\n",
    "    return xs, ys\n",
    "\n",
    "# Parameters\n",
    "x0, y0, x_end, h = 0.0, 1.0, 1.0, 0.25\n",
    "\n",
    "# Run Euler method\n",
    "x_vals, y_vals = euler_method(f, x0, y0, h, x_end)\n",
    "\n",
    "# Output table\n",
    "print(f\"Euler's Method (h={h}):\")\n",
    "for x, y in zip(x_vals, y_vals):\n",
    "    print(f\"x={x:.2f}, y={y:.6f}\")\n"
   ]
  },
  {
   "cell_type": "markdown",
   "id": "b2ea15a9",
   "metadata": {},
   "source": [
    "### RK4 Method\n"
   ]
  },
  {
   "cell_type": "code",
   "execution_count": 8,
   "id": "9cee1bd3",
   "metadata": {},
   "outputs": [
    {
     "name": "stdout",
     "output_type": "stream",
     "text": [
      "RK4 Method (h=0.25):\n",
      "x=0.00, y=1.000000\n",
      "x=0.25, y=1.041667\n",
      "x=0.50, y=1.208333\n",
      "x=0.75, y=1.562500\n",
      "x=1.00, y=2.166667\n"
     ]
    }
   ],
   "source": [
    "# part_b_rk4.py\n",
    "import numpy as np\n",
    "\n",
    "# ODE definition\n",
    "def f(x, y):\n",
    "    return x * (1 + 2*x)\n",
    "\n",
    "# RK4 method\n",
    "def rk4_method(f, x0, y0, h, x_end):\n",
    "    xs = np.arange(x0, x_end + 1e-12, h)\n",
    "    ys = np.zeros_like(xs)\n",
    "    ys[0] = y0\n",
    "    for i in range(len(xs)-1):\n",
    "        x = xs[i]\n",
    "        y = ys[i]\n",
    "        k1 = f(x, y)\n",
    "        k2 = f(x + h/2.0, y + h/2.0 * k1)\n",
    "        k3 = f(x + h/2.0, y + h/2.0 * k2)\n",
    "        k4 = f(x + h, y + h * k3)\n",
    "        ys[i+1] = y + (h/6.0)*(k1 + 2*k2 + 2*k3 + k4)\n",
    "    return xs, ys\n",
    "\n",
    "# Parameters\n",
    "x0, y0, x_end, h = 0.0, 1.0, 1.0, 0.25\n",
    "\n",
    "# Run RK4 method\n",
    "x_vals, y_vals = rk4_method(f, x0, y0, h, x_end)\n",
    "\n",
    "# Output table\n",
    "print(f\"RK4 Method (h={h}):\")\n",
    "for x, y in zip(x_vals, y_vals):\n",
    "    print(f\"x={x:.2f}, y={y:.6f}\")\n"
   ]
  }
 ],
 "metadata": {
  "kernelspec": {
   "display_name": "Python 3",
   "language": "python",
   "name": "python3"
  },
  "language_info": {
   "codemirror_mode": {
    "name": "ipython",
    "version": 3
   },
   "file_extension": ".py",
   "mimetype": "text/x-python",
   "name": "python",
   "nbconvert_exporter": "python",
   "pygments_lexer": "ipython3",
   "version": "3.12.10"
  }
 },
 "nbformat": 4,
 "nbformat_minor": 5
}
