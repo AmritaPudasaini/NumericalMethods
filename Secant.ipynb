{
 "cells": [
  {
   "cell_type": "markdown",
   "id": "39e1fc5c",
   "metadata": {},
   "source": [
    "## Secant Method\n",
    "$$\n",
    "f(x) = x^2 + cos(x) - e^{-x} - 2\n",
    "$$\n"
   ]
  },
  {
   "cell_type": "code",
   "execution_count": 1,
   "id": "3c4a871e",
   "metadata": {},
   "outputs": [
    {
     "name": "stdout",
     "output_type": "stream",
     "text": [
      "Iteration f(x)              f⁻¹(0) (x)        Error (%)   \n",
      "------------------------------------------------------------\n",
      "1         0.0976070415      1.4472499401      3.644848    \n",
      "2         -0.0174515387     1.4552508185      0.549794    \n",
      "3         -0.0002983089     1.4553899605      0.009560    \n",
      "4         0.0000009334      1.4553895265      0.000030    \n",
      "5         -0.0000000000     1.4553895265      0.000000    \n"
     ]
    }
   ],
   "source": [
    "import math\n",
    "\n",
    "def f(x):\n",
    "    return x**2 + math.cos(x) - math.exp(-x) - 2\n",
    "\n",
    "def secant_method(x0, x1, max_iter=12, tol=1e-6):\n",
    "    print(f\"{'Iteration':<10}{'f(x)':<18}{'f⁻¹(0) (x)':<18}{'Error (%)':<12}\")\n",
    "    print(\"-\" * 60)\n",
    "\n",
    "    for i in range(1, max_iter + 1):\n",
    "        f_x0 = f(x0)\n",
    "        f_x1 = f(x1)\n",
    "        if f_x1 - f_x0 == 0:\n",
    "            print(\"Division by zero — method stopped.\")\n",
    "            break\n",
    "\n",
    "        # Secant formula\n",
    "        x2 = x1 - f_x1 * (x1 - x0) / (f_x1 - f_x0)\n",
    "        error = abs((x2 - x1) / x2) * 100 if x2 != 0 else float('inf')\n",
    "        \n",
    "        print(f\"{i:<10}{f_x1:<18.10f}{x2:<18.10f}{error:<12.6f}\")\n",
    "        if error < tol:\n",
    "            break\n",
    "        x0, x1 = x1, x2\n",
    "x0 = 1\n",
    "x1 = 1.5\n",
    "secant_method(x0, x1)"
   ]
  }
 ],
 "metadata": {
  "kernelspec": {
   "display_name": "base",
   "language": "python",
   "name": "python3"
  },
  "language_info": {
   "codemirror_mode": {
    "name": "ipython",
    "version": 3
   },
   "file_extension": ".py",
   "mimetype": "text/x-python",
   "name": "python",
   "nbconvert_exporter": "python",
   "pygments_lexer": "ipython3",
   "version": "3.13.5"
  }
 },
 "nbformat": 4,
 "nbformat_minor": 5
}
