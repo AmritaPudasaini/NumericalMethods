{
 "cells": [
  {
   "cell_type": "code",
   "execution_count": 3,
   "id": "1369691b",
   "metadata": {},
   "outputs": [
    {
     "name": "stdout",
     "output_type": "stream",
     "text": [
      "11.0\n"
     ]
    }
   ],
   "source": [
    "import numpy as np\n",
    "\n",
    "def linear_interpolation (x_values, y_values, x):\n",
    "    result = y_values[0]+(x-x_values[0])*(y_values[1]-y_values[0])/(x_values[1]-x_values[0])\n",
    "    return result\n",
    "x_values = np.array([2,5])\n",
    "y_values = np.array([7,15])\n",
    "x=3.5\n",
    "answer = linear_interpolation(x_values, y_values, x)\n",
    "print(answer)\n"
   ]
  },
  {
   "cell_type": "code",
   "execution_count": 2,
   "id": "43fcfb35",
   "metadata": {},
   "outputs": [
    {
     "name": "stdout",
     "output_type": "stream",
     "text": [
      "7 12 20 50\n",
      "25.0\n"
     ]
    }
   ],
   "source": [
    "import numpy as np\n",
    "\n",
    "def linear_interpolation (x_values, y_values, x):\n",
    "    n=len(x_values)\n",
    "    for i in range(n):\n",
    "        if x_values[i]<=x<= x_values[i+1]:\n",
    "            result = x_values[i]+(x-x_values[i])*(y_values[i+1]-y_values[i])/(x_values[i+1]-x_values[i])\n",
    "            print (x_values[i], x_values[i+1], y_values[i], y_values[i+1])\n",
    "            return result\n",
    "x_values=np.array([7,5,7,12])\n",
    "y_values=np.array([7,15,20,50])\n",
    "x=10\n",
    "answer=linear_interpolation(x_values, y_values, x)\n",
    "print (answer)"
   ]
  },
  {
   "cell_type": "code",
   "execution_count": 10,
   "id": "7dd0ceba",
   "metadata": {},
   "outputs": [
    {
     "name": "stdout",
     "output_type": "stream",
     "text": [
      "33.400000000000006\n"
     ]
    }
   ],
   "source": [
    "#Lagrange Interpolation\n",
    "import numpy as np\n",
    "\n",
    "def lagrange_interpolation(x_values, y_values, x):\n",
    "    n = len(x_values)\n",
    "    result = 0.0\n",
    "    for i in range(n):\n",
    "        term = y_values[i]\n",
    "        for j in range(n):\n",
    "            if j != i:\n",
    "                term *= (x - x_values[j]) / (x_values[i] - x_values[j])\n",
    "        result += term\n",
    "\n",
    "    return result\n",
    "\n",
    "x_values = np.array([2,5, 7, 12])\n",
    "y_values = np.array([7,15, 20, 50])\n",
    "x = 10\n",
    "\n",
    "answer = lagrange_interpolation(x_values, y_values, x)\n",
    "print(answer)\n"
   ]
  },
  {
   "cell_type": "code",
   "execution_count": null,
   "id": "ff85c590",
   "metadata": {},
   "outputs": [
    {
     "name": "stdout",
     "output_type": "stream",
     "text": [
      "33.4\n"
     ]
    }
   ],
   "source": [
    "#Newton Interpolation\n",
    "import numpy as np\n",
    "\n",
    "def newton_divided_difference(x_values, y_values, x):\n",
    "    n = len(x_values)\n",
    "    diff_table = np.zeros((n, n))\n",
    "    diff_table[:, 0] = y_values\n",
    "\n",
    "    for j in range(1, n):\n",
    "        for i in range(n - j):\n",
    "            diff_table[i][j] = (diff_table[i+1][j-1] - diff_table[i][j-1]) / (x_values[i+j] - x_values[i])\n",
    "\n",
    "    result = diff_table[0][0]\n",
    "    product_term = 1.0\n",
    "    for i in range(1, n):\n",
    "        product_term *= (x - x_values[i-1])\n",
    "        result += diff_table[0][i] * product_term\n",
    "\n",
    "    return result\n",
    "\n",
    "x_values = np.array([2, 5, 7, 12])\n",
    "y_values = np.array([7, 15, 20, 50])\n",
    "x = 10\n",
    "\n",
    "answer = newton_divided_difference(x_values, y_values, x)\n",
    "print(answer)\n",
    "\n"
   ]
  },
  {
   "cell_type": "markdown",
   "id": "6e08b9c8",
   "metadata": {},
   "source": [
    "# Amrita Pudasaini\n",
    "## Newton Interpolation\n"
   ]
  },
  {
   "cell_type": "code",
   "execution_count": null,
   "id": "275d0617",
   "metadata": {},
   "outputs": [
    {
     "name": "stdout",
     "output_type": "stream",
     "text": [
      "Newton interpolation at x = 19.5: 24.1328 °C\n",
      "Absolute Error: 0.1328 °C\n",
      "Relative Error: 0.55 %\n"
     ]
    }
   ],
   "source": [
    "import numpy as np\n",
    "def newton_divided_difference(x_values, y_values, x):\n",
    "    n = len(x_values)\n",
    "    diff_table = np.zeros((n, n))\n",
    "    diff_table[:, 0] = y_values\n",
    "\n",
    "    for j in range(1, n):\n",
    "        for i in range(n - j):\n",
    "            diff_table[i][j] = (diff_table[i+1][j-1] - diff_table[i][j-1]) / (x_values[i+j] - x_values[i])\n",
    "\n",
    "    result = diff_table[0][0]\n",
    "    product_term = 1.0\n",
    "    for i in range(1, n):\n",
    "        product_term *= (x - x_values[i-1])\n",
    "        result += diff_table[0][i] * product_term\n",
    "    return result\n",
    "x_values = np.array([18, 19, 20, 21, 22])\n",
    "y_values = np.array([24, 24, 24, 23, 23])\n",
    "x = 19.5\n",
    "interpolated_value = newton_divided_difference(x_values, y_values, x)\n",
    "print(f\"Newton interpolation at x = {x}: {interpolated_value:.4f} °C\")\n",
    "actual_value = 24.0\n",
    "\n",
    "absolute_error = abs(interpolated_value - actual_value)\n",
    "relative_error = (absolute_error / actual_value) * 100\n",
    "\n",
    "print(f\"Absolute Error: {absolute_error:.4f} °C\")\n",
    "print(f\"Relative Error: {relative_error:.2f} %\")\n"
   ]
  },
  {
   "cell_type": "markdown",
   "id": "9791bbfc",
   "metadata": {},
   "source": [
    "# Amrita Pudasaini\n",
    "## Lagrange Interpolation"
   ]
  },
  {
   "cell_type": "code",
   "execution_count": null,
   "id": "ac1fa084",
   "metadata": {},
   "outputs": [
    {
     "name": "stdout",
     "output_type": "stream",
     "text": [
      "Lagrange interpolation at x = 19.5: 24.1328\n",
      "Estimated true value at x = 19.5 (by midpoint): 24.0\n",
      "Absolute Error: 0.1328\n",
      "Relative Error: 0.55%\n"
     ]
    }
   ],
   "source": [
    "import numpy as np\n",
    "def lagrange_interpolation(x_values, y_values, x):\n",
    "    n = len(x_values)\n",
    "    result = 0.0\n",
    "    for i in range(n):\n",
    "        term = y_values[i]\n",
    "        for j in range(n):\n",
    "            if j != i:\n",
    "                term *= (x - x_values[j]) / (x_values[i] - x_values[j])\n",
    "        result += term\n",
    "    return result\n",
    "x_values = np.array([18, 19, 20, 21, 22])\n",
    "y_values = np.array([24, 24, 24, 23, 23])\n",
    "x = 19.5\n",
    "\n",
    "interp_result = lagrange_interpolation(x_values, y_values, x)\n",
    "print(f\"Lagrange interpolation at x = {x}: {interp_result:.4f}\")\n",
    "\n",
    "true_value = (y_values[1] + y_values[2]) / 2\n",
    "\n",
    "abs_error = abs(true_value - interp_result)\n",
    "rel_error = (abs_error / abs(true_value)) * 100\n",
    "\n",
    "print(f\"Estimated true value at x = {x} (by midpoint): {true_value}\")\n",
    "print(f\"Absolute Error: {abs_error:.4f}\")\n",
    "print(f\"Relative Error: {rel_error:.2f}%\")\n"
   ]
  }
 ],
 "metadata": {
  "kernelspec": {
   "display_name": "base",
   "language": "python",
   "name": "python3"
  },
  "language_info": {
   "codemirror_mode": {
    "name": "ipython",
    "version": 3
   },
   "file_extension": ".py",
   "mimetype": "text/x-python",
   "name": "python",
   "nbconvert_exporter": "python",
   "pygments_lexer": "ipython3",
   "version": "3.13.5"
  }
 },
 "nbformat": 4,
 "nbformat_minor": 5
}
