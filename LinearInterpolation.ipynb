{
 "cells": [
  {
   "cell_type": "code",
   "execution_count": null,
   "id": "1369691b",
   "metadata": {},
   "outputs": [
    {
     "ename": "SyntaxError",
     "evalue": "expected ':' (1900751709.py, line 3)",
     "output_type": "error",
     "traceback": [
      "\u001b[1;36m  Cell \u001b[1;32mIn[2], line 3\u001b[1;36m\u001b[0m\n\u001b[1;33m    def linear_interpolation (x_values, y_values, x)\u001b[0m\n\u001b[1;37m                                                    ^\u001b[0m\n\u001b[1;31mSyntaxError\u001b[0m\u001b[1;31m:\u001b[0m expected ':'\n"
     ]
    }
   ],
   "source": [
    "import numpy as np\n",
    "\n",
    "def linear_interpolation (x_values, y_values, x):\n",
    "    result = y_values[0]+(x-x_values[0])*(y_values[1]-y_values[0])/(x_values[1]-x_values[0])\n",
    "    return result\n",
    "x_values = np.array([2,5])\n",
    "y_values = np.array([7,15])\n",
    "x=3.5\n",
    "answer = linear_interpolation(x_values, y_values, x)\n",
    "print(answer)\n"
   ]
  }
 ],
 "metadata": {
  "kernelspec": {
   "display_name": "base",
   "language": "python",
   "name": "python3"
  },
  "language_info": {
   "codemirror_mode": {
    "name": "ipython",
    "version": 3
   },
   "file_extension": ".py",
   "mimetype": "text/x-python",
   "name": "python",
   "nbconvert_exporter": "python",
   "pygments_lexer": "ipython3",
   "version": "3.13.5"
  }
 },
 "nbformat": 4,
 "nbformat_minor": 5
}
