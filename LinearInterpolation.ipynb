{
 "cells": [
  {
   "cell_type": "code",
   "execution_count": 3,
   "id": "1369691b",
   "metadata": {},
   "outputs": [
    {
     "name": "stdout",
     "output_type": "stream",
     "text": [
      "11.0\n"
     ]
    }
   ],
   "source": [
    "import numpy as np\n",
    "\n",
    "def linear_interpolation (x_values, y_values, x):\n",
    "    result = y_values[0]+(x-x_values[0])*(y_values[1]-y_values[0])/(x_values[1]-x_values[0])\n",
    "    return result\n",
    "x_values = np.array([2,5])\n",
    "y_values = np.array([7,15])\n",
    "x=3.5\n",
    "answer = linear_interpolation(x_values, y_values, x)\n",
    "print(answer)\n"
   ]
  },
  {
   "cell_type": "code",
   "execution_count": null,
   "id": "43fcfb35",
   "metadata": {},
   "outputs": [
    {
     "name": "stdout",
     "output_type": "stream",
     "text": [
      "7 12 20 50\n",
      "25.0\n"
     ]
    }
   ],
   "source": [
    "import numpy as np\n",
    "\n",
    "def linear_interpolation (x_values, y_values, x):\n",
    "    n=len(x_values)\n",
    "    for i in range(n):\n",
    "        if x_values[i]<=x<= x_values[i+1]:\n",
    "            result = x_values[i]+(x-x_values[i])*(y_values[i+1]-y_values[i])/(x_values[i+1]-x_values[i])\n",
    "            print (x_values[i], x_values[i+1], y_values[i], y_values[i+1])\n",
    "            return result\n",
    "x_values=np.array([7,5,7,12])\n",
    "y_values=np.array([7,15,20,50])\n",
    "x=10\n",
    "answer=linear_interpolation(x_values, y_values, x)\n",
    "print (answer)"
   ]
  },
  {
   "cell_type": "code",
   "execution_count": null,
   "id": "7dd0ceba",
   "metadata": {},
   "outputs": [
    {
     "name": "stdout",
     "output_type": "stream",
     "text": [
      "Lagrange Interpolation at x = 10 is 35.0\n"
     ]
    }
   ],
   "source": [
    "#Lagrange Interpolation\n",
    "import numpy as np\n",
    "\n",
    "def lagrange_interpolation(x_values, y_values, x):\n",
    "    n = len(x_values)\n",
    "    result = 0.0\n",
    "\n",
    "    for i in range(n):\n",
    "        term = y_values[i]\n",
    "        for j in range(n):\n",
    "            if j != i:\n",
    "                term *= (x - x_values[j]) / (x_values[i] - x_values[j])\n",
    "        result += term\n",
    "\n",
    "    return result\n",
    "\n",
    "x_values = np.array([5, 7, 12])\n",
    "y_values = np.array([15, 20, 50])\n",
    "x = 10\n",
    "\n",
    "answer = lagrange_interpolation(x_values, y_values, x)\n",
    "print(answer)\n"
   ]
  }
 ],
 "metadata": {
  "kernelspec": {
   "display_name": "base",
   "language": "python",
   "name": "python3"
  },
  "language_info": {
   "codemirror_mode": {
    "name": "ipython",
    "version": 3
   },
   "file_extension": ".py",
   "mimetype": "text/x-python",
   "name": "python",
   "nbconvert_exporter": "python",
   "pygments_lexer": "ipython3",
   "version": "3.13.5"
  }
 },
 "nbformat": 4,
 "nbformat_minor": 5
}
