{
 "cells": [
  {
   "cell_type": "code",
   "execution_count": 1,
   "id": "dd4f0906",
   "metadata": {},
   "outputs": [
    {
     "name": "stdout",
     "output_type": "stream",
     "text": [
      "Iteration\t  x1\t\t  x2\t\t  x3\n",
      "    1\t\t2.5\t1.5\t0.375\n",
      "    2\t\t1.5625\t2.2125\t0.665625\n",
      "    3\t\t1.060938\t2.629688\t0.812109\n",
      "    4\t\t0.779102\t2.857383\t0.896104\n",
      "    5\t\t0.623257\t2.984487\t0.94225\n",
      "    6\t\t0.536631\t3.054921\t0.967954\n",
      "    7\t\t0.488562\t3.094044\t0.982208\n",
      "    8\t\t0.461874\t3.115759\t0.990123\n",
      "    9\t\t0.447059\t3.127814\t0.994517\n",
      "   10\t\t0.438835\t3.134506\t0.996956\n",
      "   11\t\t0.434269\t3.138221\t0.99831\n",
      "   12\t\t0.431734\t3.140284\t0.999062\n",
      "   13\t\t0.430327\t3.141428\t0.999479\n",
      "   14\t\t0.429546\t3.142064\t0.999711\n",
      "   15\t\t0.429113\t3.142417\t0.99984\n",
      "   16\t\t0.428872\t3.142613\t0.999911\n",
      "   17\t\t0.428738\t3.142721\t0.999951\n",
      "   18\t\t0.428664\t3.142782\t0.999973\n",
      "\n",
      "Converged!\n",
      "\n",
      "Final Solution:\n",
      "x1 = 0.428664\n",
      "x2 = 3.142782\n",
      "x3 = 0.999973\n"
     ]
    }
   ],
   "source": [
    "def gauss_seidel(a, b, x_init, tolerance=1e-4, max_iterations=100):\n",
    "    n = len(a)\n",
    "    x = x_init.copy()\n",
    "\n",
    "    print(\"Iteration\\t  x1\\t\\t  x2\\t\\t  x3\")\n",
    "    for itr in range(1, max_iterations + 1):\n",
    "        x_old = x.copy()\n",
    "        for i in range(n):\n",
    "            sum_ = b[i]\n",
    "            for j in range(n):\n",
    "                if j != i:\n",
    "                    sum_ -= a[i][j] * x[j]\n",
    "            x[i] = sum_ / a[i][i]\n",
    "\n",
    "        print(f\"{itr:5}\\t\\t{round(x[0], 6)}\\t{round(x[1], 6)}\\t{round(x[2], 6)}\")\n",
    "\n",
    "        # Check for convergence\n",
    "        if all(abs(x[i] - x_old[i]) < tolerance for i in range(n)):\n",
    "            print(\"\\nConverged!\")\n",
    "            break\n",
    "\n",
    "    return x\n",
    "\n",
    "\n",
    "# Coefficients matrix\n",
    "a = [\n",
    "    [2, 1, 1],\n",
    "    [3, 5, -2],\n",
    "    [2, 1, 4]\n",
    "]\n",
    "\n",
    "# Right-hand side vector\n",
    "b = [5, 15, 8]\n",
    "\n",
    "# Initial guess\n",
    "x_init = [0, 0, 0]\n",
    "\n",
    "# Run the method\n",
    "solution = gauss_seidel(a, b, x_init)\n",
    "\n",
    "print(\"\\nFinal Solution:\")\n",
    "print(f\"x1 = {solution[0]:.6f}\")\n",
    "print(f\"x2 = {solution[1]:.6f}\")\n",
    "print(f\"x3 = {solution[2]:.6f}\")"
   ]
  }
 ],
 "metadata": {
  "kernelspec": {
   "display_name": "base",
   "language": "python",
   "name": "python3"
  },
  "language_info": {
   "codemirror_mode": {
    "name": "ipython",
    "version": 3
   },
   "file_extension": ".py",
   "mimetype": "text/x-python",
   "name": "python",
   "nbconvert_exporter": "python",
   "pygments_lexer": "ipython3",
   "version": "3.13.5"
  }
 },
 "nbformat": 4,
 "nbformat_minor": 5
}
