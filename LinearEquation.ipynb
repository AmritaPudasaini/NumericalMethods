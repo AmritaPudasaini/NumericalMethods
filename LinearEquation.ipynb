{
 "cells": [
  {
   "cell_type": "markdown",
   "id": "2746c812",
   "metadata": {},
   "source": [
    "## Amrita Pudasaini\n",
    "## Gauss-Elimination Method\n",
    "$$\n",
    "\\begin{aligned}\n",
    "2x_1 - 6x_2 - x_3 &= -38 \\\\\n",
    "-3x_1 - x_2 + 7x_3 &= -34 \\\\\n",
    "-8x_1 + x_2 - 2x_3 &= -20\n",
    "\\end{aligned}\n",
    "$$\n"
   ]
  },
  {
   "cell_type": "code",
   "execution_count": 3,
   "id": "365543b2",
   "metadata": {},
   "outputs": [
    {
     "name": "stdout",
     "output_type": "stream",
     "text": [
      "x1 = 4.00\n",
      "x2 = 8.00\n",
      "x3 = -2.00\n"
     ]
    }
   ],
   "source": [
    "#Gauss Elimination Method to Solve a System of Linear Equations\n",
    "import numpy as np\n",
    "\n",
    "# Augmented matrix [A | B]\n",
    "A = np.array([\n",
    "    [2, -6, -1, -38],\n",
    "    [-3, -1, 7, -34],\n",
    "    [-8, 1, -2, -20]\n",
    "], dtype=float)\n",
    "\n",
    "n = len(A)\n",
    "\n",
    "# Forward Elimination\n",
    "for i in range(n):\n",
    "    # Partial pivoting (optional but safer)\n",
    "    max_row = i + np.argmax(abs(A[i:, i]))\n",
    "    if i != max_row:\n",
    "        A[[i, max_row]] = A[[max_row, i]]\n",
    "\n",
    "    for j in range(i+1, n):\n",
    "        ratio = A[j][i] / A[i][i]\n",
    "        A[j, i:] = A[j, i:] - ratio * A[i, i:]\n",
    "\n",
    "# Back Substitution\n",
    "x = np.zeros(n)\n",
    "for i in range(n-1, -1, -1):\n",
    "    x[i] = (A[i, -1] - np.dot(A[i, i+1:n], x[i+1:n])) / A[i, i]\n",
    "\n",
    "# Print the result\n",
    "variables = ['x1', 'x2', 'x3']\n",
    "for i in range(n):\n",
    "    print(f\"{variables[i]} = {x[i]:.2f}\")\n"
   ]
  },
  {
   "cell_type": "markdown",
   "id": "40bb2b3d",
   "metadata": {},
   "source": [
    "# Gauss-Jordan Method\n",
    "$$ 2x+3y−z=54 $$\n",
    "$$ x+y+z=6 $$\n",
    "$$ −2x+5y+2z=−3 $$\n",
    "​\n"
   ]
  },
  {
   "cell_type": "code",
   "execution_count": null,
   "id": "0eb5693b",
   "metadata": {},
   "outputs": [
    {
     "name": "stdout",
     "output_type": "stream",
     "text": [
      "x = 9.600000000000001\n",
      "y = 7.799999999999997\n",
      "z = -11.4\n"
     ]
    }
   ],
   "source": [
    "#Gauss-Jordan Elimination Method to Solve a System of Linear Equations\n",
    "import numpy as np\n",
    "A = np.array([\n",
    "    [2, 3, -1, 54],\n",
    "    [1, 1,  1,  6],\n",
    "    [-2, 5, 2, -3]\n",
    "], dtype=float)\n",
    "# Gauss-Jordan Elimination\n",
    "rows, cols = A.shape\n",
    "for i in range(rows):\n",
    "    # Make the diagonal element 1\n",
    "    A[i] = A[i] / A[i, i]\n",
    "    for j in range(rows):\n",
    "        if i != j:\n",
    "            A[j] = A[j] - A[j, i] * A[i]\n",
    "\n",
    "x, y, z = A[:, -1]\n",
    "print(f\"x = {x}\")\n",
    "print(f\"y = {y}\")\n",
    "print(f\"z = {z}\")\n"
   ]
  },
  {
   "cell_type": "markdown",
   "id": "86a7d76c",
   "metadata": {},
   "source": [
    "## Gauss-Seidel Method\n",
    "$$ -3x+y+15z = 44 $$\n",
    "$$ 6x - 2y + z = 5 $$\n",
    "$$ 5x + 10y + z = 28 $$"
   ]
  },
  {
   "cell_type": "code",
   "execution_count": null,
   "id": "8867e8b2",
   "metadata": {},
   "outputs": [
    {
     "name": "stdout",
     "output_type": "stream",
     "text": [
      "Iter          x         y         z    Error x (%)    Error y (%)    Error z (%)\n",
      "1        0.8333    2.3833    2.9411       100.0000       100.0000       100.0000\n",
      "2        1.1376    1.9371    3.0317        26.7459        23.0366         2.9885\n",
      "3        0.9737    2.0100    2.9941        16.8265         3.6251         1.2567\n",
      "4        1.0043    1.9984    3.0010         3.0428         0.5763         0.2292\n",
      "5        0.9993    2.0002    2.9998         0.4989         0.0902         0.0372\n",
      "6        1.0001    2.0000    3.0000         0.0788         0.0141         0.0059\n"
     ]
    }
   ],
   "source": [
    "# Gauss-Seidel Method to Solve a System of Linear Equations\n",
    "def gauss_seidel_6_iterations():\n",
    "    # Initial guesses\n",
    "    x = y = z = 0.0\n",
    "\n",
    "    print(f\"{'Iter':<5}{'x':>10}{'y':>10}{'z':>10}{'Error x (%)':>15}{'Error y (%)':>15}{'Error z (%)':>15}\")\n",
    "    for i in range(6):\n",
    "        x_old, y_old, z_old = x, y, z\n",
    "        # Apply Gauss-Seidel formulas (diagonally dominant form)\n",
    "        x = (5 + 2 * y - z) / 6\n",
    "        y = (28 - 5 * x - z) / 10\n",
    "        z = (44 + 3 * x - y) / 15\n",
    "        # Calculate percentage errors (relative)\n",
    "        err_x = abs((x - x_old) / (x if x != 0 else 1)) * 100\n",
    "        err_y = abs((y - y_old) / (y if y != 0 else 1)) * 100\n",
    "        err_z = abs((z - z_old) / (z if z != 0 else 1)) * 100\n",
    "\n",
    "        print(f\"{i+1:<5}{x:>10.4f}{y:>10.4f}{z:>10.4f}{err_x:>15.4f}{err_y:>15.4f}{err_z:>15.4f}\")\n",
    "\n",
    "gauss_seidel_6_iterations()\n"
   ]
  }
 ],
 "metadata": {
  "kernelspec": {
   "display_name": "base",
   "language": "python",
   "name": "python3"
  },
  "language_info": {
   "codemirror_mode": {
    "name": "ipython",
    "version": 3
   },
   "file_extension": ".py",
   "mimetype": "text/x-python",
   "name": "python",
   "nbconvert_exporter": "python",
   "pygments_lexer": "ipython3",
   "version": "3.13.5"
  }
 },
 "nbformat": 4,
 "nbformat_minor": 5
}
